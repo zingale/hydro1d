{
 "cells": [
  {
   "cell_type": "markdown",
   "id": "3163c3ac-2e9f-453b-bee0-188ae3584258",
   "metadata": {},
   "source": [
    "Measure the convergence rate of the acoustic pulse problem.\n",
    "\n",
    "We read in the density from 4 different resolutions, then considering pairs of adjacent resolution, coarsen the finer simulation and compute the L2 norm of the difference between the simulations."
   ]
  },
  {
   "cell_type": "code",
   "execution_count": 12,
   "id": "265ea938-da7c-42bd-9044-59d06e90ac5a",
   "metadata": {},
   "outputs": [],
   "source": [
    "import numpy as np"
   ]
  },
  {
   "cell_type": "code",
   "execution_count": 13,
   "id": "c7379901-37c2-476f-9f79-e2e4e973040e",
   "metadata": {},
   "outputs": [],
   "source": [
    "rho32 = np.loadtxt(\"acoustic_pulse_32_000040\")[:,1]\n",
    "rho64 = np.loadtxt(\"acoustic_pulse_64_000080\")[:,1]\n",
    "rho128 = np.loadtxt(\"acoustic_pulse_128_000160\")[:,1]\n",
    "rho256 = np.loadtxt(\"acoustic_pulse_256_000320\")[:,1]"
   ]
  },
  {
   "cell_type": "code",
   "execution_count": 14,
   "id": "5f890d04-7ca2-46cc-aa99-0f2590b9cd30",
   "metadata": {},
   "outputs": [],
   "source": [
    "def norm(e):\n",
    "    return np.sqrt(1.0 / len(e) * np.sum(np.abs(e)**2))"
   ]
  },
  {
   "cell_type": "code",
   "execution_count": 15,
   "id": "968292fd-050f-443e-a7b5-e9507ed89e93",
   "metadata": {},
   "outputs": [
    {
     "data": {
      "text/plain": [
       "0.0006376823947298533"
      ]
     },
     "execution_count": 15,
     "metadata": {},
     "output_type": "execute_result"
    }
   ],
   "source": [
    "coarse_64 = 0.5 * (rho64[0::2] + rho64[1::2])\n",
    "norm(coarse_64 - rho32)"
   ]
  },
  {
   "cell_type": "code",
   "execution_count": 16,
   "id": "295509f2-a486-4a99-8336-66c8d6a42ef0",
   "metadata": {},
   "outputs": [
    {
     "data": {
      "text/plain": [
       "0.00012856297230433815"
      ]
     },
     "execution_count": 16,
     "metadata": {},
     "output_type": "execute_result"
    }
   ],
   "source": [
    "coarse_128 = 0.5 * (rho128[0::2] + rho128[1::2])\n",
    "norm(coarse_128 - rho64)"
   ]
  },
  {
   "cell_type": "code",
   "execution_count": 11,
   "id": "4ba30987-d694-4e72-834f-feae79b6a3e5",
   "metadata": {},
   "outputs": [
    {
     "data": {
      "text/plain": [
       "2.873966836877424e-05"
      ]
     },
     "execution_count": 11,
     "metadata": {},
     "output_type": "execute_result"
    }
   ],
   "source": [
    "coarse_256 = 0.5 * (rho256[0::2] + rho256[1::2])\n",
    "norm(coarse_256 - rho128)"
   ]
  },
  {
   "cell_type": "code",
   "execution_count": null,
   "id": "fec2cd33-a18e-407d-9d7d-937ee8348f21",
   "metadata": {},
   "outputs": [],
   "source": []
  }
 ],
 "metadata": {
  "kernelspec": {
   "display_name": "Python 3 (ipykernel)",
   "language": "python",
   "name": "python3"
  },
  "language_info": {
   "codemirror_mode": {
    "name": "ipython",
    "version": 3
   },
   "file_extension": ".py",
   "mimetype": "text/x-python",
   "name": "python",
   "nbconvert_exporter": "python",
   "pygments_lexer": "ipython3",
   "version": "3.12.4"
  }
 },
 "nbformat": 4,
 "nbformat_minor": 5
}
